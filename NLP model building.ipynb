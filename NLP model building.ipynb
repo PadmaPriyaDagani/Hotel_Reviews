{
 "cells": [
  {
   "cell_type": "code",
   "execution_count": 1,
   "id": "5b2e1fa4",
   "metadata": {},
   "outputs": [],
   "source": [
    "#Importing the basic librarires for building model - classification\n",
    "\n",
    "import pandas as pd\n",
    "import matplotlib.pyplot as plt\n",
    "%matplotlib inline\n",
    "import seaborn as sns\n",
    "import warnings\n",
    "warnings.filterwarnings(\"ignore\")\n",
    "from sklearn.model_selection import train_test_split\n",
    "\n",
    "from sklearn.metrics import accuracy_score,r2_score\n",
    "from sklearn.metrics import classification_report, confusion_matrix,plot_confusion_matrix\n",
    "\n",
    "\n",
    "from sklearn.linear_model import LogisticRegression\n",
    "from sklearn.tree import DecisionTreeClassifier\n",
    "from sklearn.ensemble import RandomForestClassifier\n",
    "from sklearn.svm import SVC\n",
    "\n",
    "\n",
    "from sklearn.feature_extraction.text import CountVectorizer\n",
    "from sklearn.feature_extraction.text import TfidfVectorizer \n",
    "\n",
    "from sklearn.preprocessing import LabelEncoder,StandardScaler"
   ]
  },
  {
   "cell_type": "code",
   "execution_count": 2,
   "id": "c615c678",
   "metadata": {},
   "outputs": [
    {
     "data": {
      "text/html": [
       "<div>\n",
       "<style scoped>\n",
       "    .dataframe tbody tr th:only-of-type {\n",
       "        vertical-align: middle;\n",
       "    }\n",
       "\n",
       "    .dataframe tbody tr th {\n",
       "        vertical-align: top;\n",
       "    }\n",
       "\n",
       "    .dataframe thead th {\n",
       "        text-align: right;\n",
       "    }\n",
       "</style>\n",
       "<table border=\"1\" class=\"dataframe\">\n",
       "  <thead>\n",
       "    <tr style=\"text-align: right;\">\n",
       "      <th></th>\n",
       "      <th>Unnamed: 0</th>\n",
       "      <th>Rating</th>\n",
       "      <th>clean_word</th>\n",
       "      <th>subjectivity</th>\n",
       "      <th>polarity</th>\n",
       "      <th>analysis</th>\n",
       "    </tr>\n",
       "  </thead>\n",
       "  <tbody>\n",
       "    <tr>\n",
       "      <th>0</th>\n",
       "      <td>0</td>\n",
       "      <td>4</td>\n",
       "      <td>nice hotel expens park got good deal stay hote...</td>\n",
       "      <td>0.749286</td>\n",
       "      <td>0.353265</td>\n",
       "      <td>Positive</td>\n",
       "    </tr>\n",
       "    <tr>\n",
       "      <th>1</th>\n",
       "      <td>1</td>\n",
       "      <td>2</td>\n",
       "      <td>ok noth special charg diamond member hilton de...</td>\n",
       "      <td>0.495012</td>\n",
       "      <td>0.311808</td>\n",
       "      <td>Positive</td>\n",
       "    </tr>\n",
       "    <tr>\n",
       "      <th>2</th>\n",
       "      <td>2</td>\n",
       "      <td>3</td>\n",
       "      <td>nice room experi hotel monaco seattl good hote...</td>\n",
       "      <td>0.591511</td>\n",
       "      <td>0.294513</td>\n",
       "      <td>Positive</td>\n",
       "    </tr>\n",
       "    <tr>\n",
       "      <th>3</th>\n",
       "      <td>3</td>\n",
       "      <td>5</td>\n",
       "      <td>uniqu great stay wonder time hotel monaco loca...</td>\n",
       "      <td>0.640278</td>\n",
       "      <td>0.455556</td>\n",
       "      <td>Positive</td>\n",
       "    </tr>\n",
       "    <tr>\n",
       "      <th>4</th>\n",
       "      <td>4</td>\n",
       "      <td>5</td>\n",
       "      <td>great stay great stay went seahawk game awesom...</td>\n",
       "      <td>0.537987</td>\n",
       "      <td>0.424351</td>\n",
       "      <td>Positive</td>\n",
       "    </tr>\n",
       "    <tr>\n",
       "      <th>...</th>\n",
       "      <td>...</td>\n",
       "      <td>...</td>\n",
       "      <td>...</td>\n",
       "      <td>...</td>\n",
       "      <td>...</td>\n",
       "      <td>...</td>\n",
       "    </tr>\n",
       "    <tr>\n",
       "      <th>20486</th>\n",
       "      <td>20486</td>\n",
       "      <td>5</td>\n",
       "      <td>best kept secret rd time stay charm star ca be...</td>\n",
       "      <td>0.534444</td>\n",
       "      <td>0.195152</td>\n",
       "      <td>Positive</td>\n",
       "    </tr>\n",
       "    <tr>\n",
       "      <th>20487</th>\n",
       "      <td>20487</td>\n",
       "      <td>4</td>\n",
       "      <td>great locat price view hotel great quick place...</td>\n",
       "      <td>0.625000</td>\n",
       "      <td>0.516667</td>\n",
       "      <td>Positive</td>\n",
       "    </tr>\n",
       "    <tr>\n",
       "      <th>20488</th>\n",
       "      <td>20488</td>\n",
       "      <td>2</td>\n",
       "      <td>ok look nice modern outsid desk staff particul...</td>\n",
       "      <td>0.499026</td>\n",
       "      <td>0.263874</td>\n",
       "      <td>Positive</td>\n",
       "    </tr>\n",
       "    <tr>\n",
       "      <th>20489</th>\n",
       "      <td>20489</td>\n",
       "      <td>1</td>\n",
       "      <td>hotel theft ruin vacat hotel open sept guest w...</td>\n",
       "      <td>0.458975</td>\n",
       "      <td>0.119859</td>\n",
       "      <td>Positive</td>\n",
       "    </tr>\n",
       "    <tr>\n",
       "      <th>20490</th>\n",
       "      <td>20490</td>\n",
       "      <td>2</td>\n",
       "      <td>peopl talk ca believ excel rate hotel ye patri...</td>\n",
       "      <td>0.657143</td>\n",
       "      <td>-0.012381</td>\n",
       "      <td>Negative</td>\n",
       "    </tr>\n",
       "  </tbody>\n",
       "</table>\n",
       "<p>20491 rows × 6 columns</p>\n",
       "</div>"
      ],
      "text/plain": [
       "       Unnamed: 0  Rating                                         clean_word  \\\n",
       "0               0       4  nice hotel expens park got good deal stay hote...   \n",
       "1               1       2  ok noth special charg diamond member hilton de...   \n",
       "2               2       3  nice room experi hotel monaco seattl good hote...   \n",
       "3               3       5  uniqu great stay wonder time hotel monaco loca...   \n",
       "4               4       5  great stay great stay went seahawk game awesom...   \n",
       "...           ...     ...                                                ...   \n",
       "20486       20486       5  best kept secret rd time stay charm star ca be...   \n",
       "20487       20487       4  great locat price view hotel great quick place...   \n",
       "20488       20488       2  ok look nice modern outsid desk staff particul...   \n",
       "20489       20489       1  hotel theft ruin vacat hotel open sept guest w...   \n",
       "20490       20490       2  peopl talk ca believ excel rate hotel ye patri...   \n",
       "\n",
       "       subjectivity  polarity  analysis  \n",
       "0          0.749286  0.353265  Positive  \n",
       "1          0.495012  0.311808  Positive  \n",
       "2          0.591511  0.294513  Positive  \n",
       "3          0.640278  0.455556  Positive  \n",
       "4          0.537987  0.424351  Positive  \n",
       "...             ...       ...       ...  \n",
       "20486      0.534444  0.195152  Positive  \n",
       "20487      0.625000  0.516667  Positive  \n",
       "20488      0.499026  0.263874  Positive  \n",
       "20489      0.458975  0.119859  Positive  \n",
       "20490      0.657143 -0.012381  Negative  \n",
       "\n",
       "[20491 rows x 6 columns]"
      ]
     },
     "execution_count": 2,
     "metadata": {},
     "output_type": "execute_result"
    }
   ],
   "source": [
    "df= pd.read_csv(\"D:\\\\data science\\\\Project 2\\\\hotel_reviews_processed.csv\",encoding='latin-1')\n",
    "df"
   ]
  },
  {
   "cell_type": "code",
   "execution_count": 3,
   "id": "32b3f831",
   "metadata": {},
   "outputs": [],
   "source": [
    "df = df.drop(\"Unnamed: 0\",axis=1)"
   ]
  },
  {
   "cell_type": "code",
   "execution_count": 4,
   "id": "cd3124d4",
   "metadata": {},
   "outputs": [
    {
     "data": {
      "text/plain": [
       "array([2, 0, 1])"
      ]
     },
     "execution_count": 4,
     "metadata": {},
     "output_type": "execute_result"
    }
   ],
   "source": [
    "LE = LabelEncoder()\n",
    "  \n",
    "df['analysis']= LE.fit_transform(df['analysis'])\n",
    "  \n",
    "df['analysis'].unique()"
   ]
  },
  {
   "cell_type": "code",
   "execution_count": 5,
   "id": "22cb9f08",
   "metadata": {},
   "outputs": [
    {
     "data": {
      "text/html": [
       "<div>\n",
       "<style scoped>\n",
       "    .dataframe tbody tr th:only-of-type {\n",
       "        vertical-align: middle;\n",
       "    }\n",
       "\n",
       "    .dataframe tbody tr th {\n",
       "        vertical-align: top;\n",
       "    }\n",
       "\n",
       "    .dataframe thead th {\n",
       "        text-align: right;\n",
       "    }\n",
       "</style>\n",
       "<table border=\"1\" class=\"dataframe\">\n",
       "  <thead>\n",
       "    <tr style=\"text-align: right;\">\n",
       "      <th></th>\n",
       "      <th>Rating</th>\n",
       "      <th>clean_word</th>\n",
       "      <th>subjectivity</th>\n",
       "      <th>polarity</th>\n",
       "      <th>analysis</th>\n",
       "    </tr>\n",
       "  </thead>\n",
       "  <tbody>\n",
       "    <tr>\n",
       "      <th>0</th>\n",
       "      <td>4</td>\n",
       "      <td>nice hotel expens park got good deal stay hote...</td>\n",
       "      <td>0.749286</td>\n",
       "      <td>0.353265</td>\n",
       "      <td>2</td>\n",
       "    </tr>\n",
       "    <tr>\n",
       "      <th>1</th>\n",
       "      <td>2</td>\n",
       "      <td>ok noth special charg diamond member hilton de...</td>\n",
       "      <td>0.495012</td>\n",
       "      <td>0.311808</td>\n",
       "      <td>2</td>\n",
       "    </tr>\n",
       "    <tr>\n",
       "      <th>2</th>\n",
       "      <td>3</td>\n",
       "      <td>nice room experi hotel monaco seattl good hote...</td>\n",
       "      <td>0.591511</td>\n",
       "      <td>0.294513</td>\n",
       "      <td>2</td>\n",
       "    </tr>\n",
       "    <tr>\n",
       "      <th>3</th>\n",
       "      <td>5</td>\n",
       "      <td>uniqu great stay wonder time hotel monaco loca...</td>\n",
       "      <td>0.640278</td>\n",
       "      <td>0.455556</td>\n",
       "      <td>2</td>\n",
       "    </tr>\n",
       "    <tr>\n",
       "      <th>4</th>\n",
       "      <td>5</td>\n",
       "      <td>great stay great stay went seahawk game awesom...</td>\n",
       "      <td>0.537987</td>\n",
       "      <td>0.424351</td>\n",
       "      <td>2</td>\n",
       "    </tr>\n",
       "    <tr>\n",
       "      <th>...</th>\n",
       "      <td>...</td>\n",
       "      <td>...</td>\n",
       "      <td>...</td>\n",
       "      <td>...</td>\n",
       "      <td>...</td>\n",
       "    </tr>\n",
       "    <tr>\n",
       "      <th>20486</th>\n",
       "      <td>5</td>\n",
       "      <td>best kept secret rd time stay charm star ca be...</td>\n",
       "      <td>0.534444</td>\n",
       "      <td>0.195152</td>\n",
       "      <td>2</td>\n",
       "    </tr>\n",
       "    <tr>\n",
       "      <th>20487</th>\n",
       "      <td>4</td>\n",
       "      <td>great locat price view hotel great quick place...</td>\n",
       "      <td>0.625000</td>\n",
       "      <td>0.516667</td>\n",
       "      <td>2</td>\n",
       "    </tr>\n",
       "    <tr>\n",
       "      <th>20488</th>\n",
       "      <td>2</td>\n",
       "      <td>ok look nice modern outsid desk staff particul...</td>\n",
       "      <td>0.499026</td>\n",
       "      <td>0.263874</td>\n",
       "      <td>2</td>\n",
       "    </tr>\n",
       "    <tr>\n",
       "      <th>20489</th>\n",
       "      <td>1</td>\n",
       "      <td>hotel theft ruin vacat hotel open sept guest w...</td>\n",
       "      <td>0.458975</td>\n",
       "      <td>0.119859</td>\n",
       "      <td>2</td>\n",
       "    </tr>\n",
       "    <tr>\n",
       "      <th>20490</th>\n",
       "      <td>2</td>\n",
       "      <td>peopl talk ca believ excel rate hotel ye patri...</td>\n",
       "      <td>0.657143</td>\n",
       "      <td>-0.012381</td>\n",
       "      <td>0</td>\n",
       "    </tr>\n",
       "  </tbody>\n",
       "</table>\n",
       "<p>20491 rows × 5 columns</p>\n",
       "</div>"
      ],
      "text/plain": [
       "       Rating                                         clean_word  \\\n",
       "0           4  nice hotel expens park got good deal stay hote...   \n",
       "1           2  ok noth special charg diamond member hilton de...   \n",
       "2           3  nice room experi hotel monaco seattl good hote...   \n",
       "3           5  uniqu great stay wonder time hotel monaco loca...   \n",
       "4           5  great stay great stay went seahawk game awesom...   \n",
       "...       ...                                                ...   \n",
       "20486       5  best kept secret rd time stay charm star ca be...   \n",
       "20487       4  great locat price view hotel great quick place...   \n",
       "20488       2  ok look nice modern outsid desk staff particul...   \n",
       "20489       1  hotel theft ruin vacat hotel open sept guest w...   \n",
       "20490       2  peopl talk ca believ excel rate hotel ye patri...   \n",
       "\n",
       "       subjectivity  polarity  analysis  \n",
       "0          0.749286  0.353265         2  \n",
       "1          0.495012  0.311808         2  \n",
       "2          0.591511  0.294513         2  \n",
       "3          0.640278  0.455556         2  \n",
       "4          0.537987  0.424351         2  \n",
       "...             ...       ...       ...  \n",
       "20486      0.534444  0.195152         2  \n",
       "20487      0.625000  0.516667         2  \n",
       "20488      0.499026  0.263874         2  \n",
       "20489      0.458975  0.119859         2  \n",
       "20490      0.657143 -0.012381         0  \n",
       "\n",
       "[20491 rows x 5 columns]"
      ]
     },
     "execution_count": 5,
     "metadata": {},
     "output_type": "execute_result"
    }
   ],
   "source": [
    "df"
   ]
  },
  {
   "cell_type": "code",
   "execution_count": 6,
   "id": "4ff08ee4",
   "metadata": {},
   "outputs": [],
   "source": [
    "# now we need change the new word to number - array using CountVectorizer\n",
    "\n",
    "tfidv= TfidfVectorizer()\n",
    "X=tfidv.fit_transform(df[\"clean_word\"]).toarray()\n",
    "Y=df[\"analysis\"]"
   ]
  },
  {
   "cell_type": "code",
   "execution_count": 7,
   "id": "de2eca4b",
   "metadata": {},
   "outputs": [
    {
     "data": {
      "text/plain": [
       "((20491, 35692), (20491,))"
      ]
     },
     "execution_count": 7,
     "metadata": {},
     "output_type": "execute_result"
    }
   ],
   "source": [
    "X.shape,Y.shape"
   ]
  },
  {
   "cell_type": "code",
   "execution_count": 8,
   "id": "ba9ab2ac",
   "metadata": {},
   "outputs": [
    {
     "data": {
      "text/plain": [
       "count    20491.000000\n",
       "mean         0.000237\n",
       "std          0.010889\n",
       "min          0.000000\n",
       "25%          0.000000\n",
       "50%          0.000000\n",
       "75%          0.000000\n",
       "max          1.000000\n",
       "Name: 0, dtype: float64"
      ]
     },
     "execution_count": 8,
     "metadata": {},
     "output_type": "execute_result"
    }
   ],
   "source": [
    "#Normalizing the data using MinMaxScaler\n",
    "from sklearn.preprocessing import MinMaxScaler\n",
    "MM = MinMaxScaler()\n",
    "MM_Scale = MM.fit_transform(X)\n",
    "MM_Scale\n",
    "MM_Scale = pd.DataFrame(MM_Scale)\n",
    "MM_Scale[0].describe()"
   ]
  },
  {
   "cell_type": "code",
   "execution_count": 9,
   "id": "601dc061",
   "metadata": {},
   "outputs": [],
   "source": [
    "# split the data train and test\n",
    "X_train, X_test, Y_train, Y_test = train_test_split(X, Y, test_size=0.25, random_state=42)\n",
    "\n"
   ]
  },
  {
   "cell_type": "code",
   "execution_count": 10,
   "id": "b89351ed",
   "metadata": {},
   "outputs": [
    {
     "data": {
      "text/plain": [
       "((15368, 35692), (5123, 35692), (15368,), (5123,))"
      ]
     },
     "execution_count": 10,
     "metadata": {},
     "output_type": "execute_result"
    }
   ],
   "source": [
    "X_train.shape,X_test.shape,Y_train.shape,Y_test.shape"
   ]
  },
  {
   "cell_type": "markdown",
   "id": "507384e5",
   "metadata": {},
   "source": [
    "### Model Building "
   ]
  },
  {
   "cell_type": "markdown",
   "id": "127e49b7",
   "metadata": {},
   "source": [
    "#### Logistic Regression"
   ]
  },
  {
   "cell_type": "code",
   "execution_count": 11,
   "id": "4846933c",
   "metadata": {},
   "outputs": [
    {
     "data": {
      "text/plain": [
       "LogisticRegression()"
      ]
     },
     "execution_count": 11,
     "metadata": {},
     "output_type": "execute_result"
    }
   ],
   "source": [
    "LR = LogisticRegression()\n",
    "LR.fit(X_train,Y_train)"
   ]
  },
  {
   "cell_type": "code",
   "execution_count": 12,
   "id": "e2e09a0f",
   "metadata": {},
   "outputs": [],
   "source": [
    "LR_pred_train=LR.predict(X_train)\n",
    "LR_pred_test=LR.predict(X_test)\n",
    "LR_train_acc=accuracy_score(LR_pred_train,Y_train)\n",
    "LR_test_acc=accuracy_score(LR_pred_test,Y_test)"
   ]
  },
  {
   "cell_type": "code",
   "execution_count": 13,
   "id": "ec8f4451",
   "metadata": {},
   "outputs": [
    {
     "name": "stdout",
     "output_type": "stream",
     "text": [
      "0.9679854242581989\n",
      "0.9564708178801483\n"
     ]
    }
   ],
   "source": [
    "print(LR_train_acc)\n",
    "print(LR_test_acc)"
   ]
  },
  {
   "cell_type": "code",
   "execution_count": 14,
   "id": "f933010a",
   "metadata": {},
   "outputs": [
    {
     "name": "stdout",
     "output_type": "stream",
     "text": [
      "              precision    recall  f1-score   support\n",
      "\n",
      "           0       0.21      0.92      0.34        51\n",
      "           1       0.00      0.00      0.00         0\n",
      "           2       1.00      0.96      0.98      5072\n",
      "\n",
      "    accuracy                           0.96      5123\n",
      "   macro avg       0.40      0.63      0.44      5123\n",
      "weighted avg       0.99      0.96      0.97      5123\n",
      "\n",
      "Accuracy of LR Model: 95.64708178801483%\n"
     ]
    },
    {
     "data": {
      "text/plain": [
       "Text(0.5, 1.0, 'Confusion Matrix for LR Model')"
      ]
     },
     "execution_count": 14,
     "metadata": {},
     "output_type": "execute_result"
    },
    {
     "data": {
      "image/png": "[encoded data removed]",
      "text/plain": [
       "<Figure size 640x480 with 2 Axes>"
      ]
     },
     "metadata": {},
     "output_type": "display_data"
    }
   ],
   "source": [
    "acc = accuracy_score(LR_pred_test, Y_test)\n",
    "report = classification_report(LR_pred_test, Y_test)\n",
    "print(report)\n",
    "cm = confusion_matrix(LR_pred_test, Y_test)\n",
    "#np.set_printoptions(precision=0.01)\n",
    "print(\"Accuracy of LR Model: {}%\".format(acc*100))\n",
    "sns.heatmap(cm, annot=True, fmt = \".1f\",cmap=\"RdBu\")\n",
    "plt.title(\"Confusion Matrix for LR Model\")"
   ]
  },
  {
   "cell_type": "markdown",
   "id": "a1a134a0",
   "metadata": {},
   "source": [
    "#### Decision Tree Algorithm"
   ]
  },
  {
   "cell_type": "code",
   "execution_count": 15,
   "id": "189fe78e",
   "metadata": {},
   "outputs": [
    {
     "data": {
      "text/plain": [
       "DecisionTreeClassifier(max_depth=9, min_samples_leaf=3)"
      ]
     },
     "execution_count": 15,
     "metadata": {},
     "output_type": "execute_result"
    }
   ],
   "source": [
    "DT = DecisionTreeClassifier(criterion='gini',max_depth=9,min_samples_leaf=3)\n",
    "DT.fit(X_train,Y_train)"
   ]
  },
  {
   "cell_type": "code",
   "execution_count": 16,
   "id": "c9b66769",
   "metadata": {},
   "outputs": [],
   "source": [
    "DT_pred_train=DT.predict(X_train)\n",
    "DT_pred_test=DT.predict(X_test)\n",
    "DT_train_acc=accuracy_score(DT_pred_train,Y_train)\n",
    "DT_test_acc=accuracy_score(DT_pred_test,Y_test)"
   ]
  },
  {
   "cell_type": "code",
   "execution_count": 17,
   "id": "f1fae32b",
   "metadata": {},
   "outputs": [
    {
     "name": "stdout",
     "output_type": "stream",
     "text": [
      "0.96538261322228\n",
      "0.9490532890884248\n"
     ]
    }
   ],
   "source": [
    "print(DT_train_acc)\n",
    "print(DT_test_acc)"
   ]
  },
  {
   "cell_type": "code",
   "execution_count": 18,
   "id": "38f96cd7",
   "metadata": {
    "scrolled": true
   },
   "outputs": [
    {
     "name": "stdout",
     "output_type": "stream",
     "text": [
      "              precision    recall  f1-score   support\n",
      "\n",
      "           0       0.22      0.53      0.31        92\n",
      "           1       0.00      0.00      0.00         0\n",
      "           2       0.99      0.96      0.97      5031\n",
      "\n",
      "    accuracy                           0.95      5123\n",
      "   macro avg       0.40      0.50      0.43      5123\n",
      "weighted avg       0.98      0.95      0.96      5123\n",
      "\n",
      "Accuracy of DT Model: 94.90532890884248%\n"
     ]
    },
    {
     "data": {
      "text/plain": [
       "Text(0.5, 1.0, 'Confusion Matrix for DT Model')"
      ]
     },
     "execution_count": 18,
     "metadata": {},
     "output_type": "execute_result"
    },
    {
     "data": {
      "image/png": "[encoded data removed]",
      "text/plain": [
       "<Figure size 640x480 with 2 Axes>"
      ]
     },
     "metadata": {},
     "output_type": "display_data"
    }
   ],
   "source": [
    "acc = accuracy_score(DT_pred_test, Y_test)\n",
    "report = classification_report(DT_pred_test, Y_test)\n",
    "print(report)\n",
    "cm = confusion_matrix(DT_pred_test, Y_test)\n",
    "#np.set_printoptions(precision=0.01)\n",
    "print(\"Accuracy of DT Model: {}%\".format(acc*100))\n",
    "sns.heatmap(cm, annot=True, fmt = \".1f\",cmap=\"RdBu\")\n",
    "plt.title(\"Confusion Matrix for DT Model\")"
   ]
  },
  {
   "cell_type": "markdown",
   "id": "dcb40eae",
   "metadata": {},
   "source": [
    "#### Random Forest Classifier"
   ]
  },
  {
   "cell_type": "code",
   "execution_count": 19,
   "id": "061e1239",
   "metadata": {},
   "outputs": [
    {
     "data": {
      "text/plain": [
       "RandomForestClassifier(max_depth=9)"
      ]
     },
     "execution_count": 19,
     "metadata": {},
     "output_type": "execute_result"
    }
   ],
   "source": [
    "RF = RandomForestClassifier(n_estimators=100,criterion='gini',max_depth=9)\n",
    "RF.fit(X_train,Y_train)"
   ]
  },
  {
   "cell_type": "code",
   "execution_count": 20,
   "id": "e0e2ef8a",
   "metadata": {},
   "outputs": [],
   "source": [
    "RF_pred_train=RF.predict(X_train)\n",
    "RF_pred_test=RF.predict(X_test)\n",
    "RF_train_acc=accuracy_score(RF_pred_train,Y_train)\n",
    "RF_test_acc=accuracy_score(RF_pred_test,Y_test)"
   ]
  },
  {
   "cell_type": "code",
   "execution_count": 21,
   "id": "fed2bc35",
   "metadata": {},
   "outputs": [
    {
     "name": "stdout",
     "output_type": "stream",
     "text": [
      "0.9486595523165018\n",
      "0.9478821003318368\n"
     ]
    }
   ],
   "source": [
    "print(RF_train_acc)\n",
    "print(RF_test_acc)"
   ]
  },
  {
   "cell_type": "code",
   "execution_count": 22,
   "id": "b56b232a",
   "metadata": {},
   "outputs": [
    {
     "name": "stdout",
     "output_type": "stream",
     "text": [
      "              precision    recall  f1-score   support\n",
      "\n",
      "           0       0.00      0.00      0.00         0\n",
      "           1       0.00      0.00      0.00         0\n",
      "           2       1.00      0.95      0.97      5123\n",
      "\n",
      "    accuracy                           0.95      5123\n",
      "   macro avg       0.33      0.32      0.32      5123\n",
      "weighted avg       1.00      0.95      0.97      5123\n",
      "\n",
      "Accuracy of RF Model: 94.78821003318369%\n"
     ]
    },
    {
     "data": {
      "text/plain": [
       "Text(0.5, 1.0, 'Confusion Matrix for RF Model')"
      ]
     },
     "execution_count": 22,
     "metadata": {},
     "output_type": "execute_result"
    },
    {
     "data": {
      "image/png": "[encoded data removed]",
      "text/plain": [
       "<Figure size 640x480 with 2 Axes>"
      ]
     },
     "metadata": {},
     "output_type": "display_data"
    }
   ],
   "source": [
    "acc = accuracy_score(RF_pred_test, Y_test)\n",
    "report = classification_report(RF_pred_test, Y_test)\n",
    "print(report)\n",
    "cm = confusion_matrix(RF_pred_test, Y_test)\n",
    "#np.set_printoptions(precision=0.01)\n",
    "print(\"Accuracy of RF Model: {}%\".format(acc*100))\n",
    "sns.heatmap(cm, annot=True, fmt = \".1f\",cmap=\"RdBu\")\n",
    "plt.title(\"Confusion Matrix for RF Model\")"
   ]
  },
  {
   "cell_type": "markdown",
   "id": "a27918f9",
   "metadata": {},
   "source": [
    "####  Support Vector Machines"
   ]
  },
  {
   "cell_type": "code",
   "execution_count": null,
   "id": "94b7e4f2",
   "metadata": {},
   "outputs": [],
   "source": [
    "SVM = SVC()\n",
    "SVM.fit(X_train,Y_train)"
   ]
  },
  {
   "cell_type": "code",
   "execution_count": null,
   "id": "76c00298",
   "metadata": {},
   "outputs": [],
   "source": [
    "SVM_pred_train=SVM.predict(X_train)\n",
    "SVM_pred_test=SVM.predict(X_test)\n",
    "SVM_train_acc=accuracy_score(SVM_pred_train,Y_train)\n",
    "SVM_test_acc=accuracy_score(SVM_pred_test,Y_test)"
   ]
  },
  {
   "cell_type": "code",
   "execution_count": null,
   "id": "679d9b56",
   "metadata": {},
   "outputs": [],
   "source": [
    "print(RF_train_acc)\n",
    "print(RF_test_acc)"
   ]
  },
  {
   "cell_type": "code",
   "execution_count": null,
   "id": "49d80e6a",
   "metadata": {},
   "outputs": [],
   "source": [
    "acc = accuracy_score(SVM_pred_test, Y_test)\n",
    "report = classification_report(SVM_pred_test, Y_test)\n",
    "print(report)\n",
    "cm = confusion_matrix(SVM_pred_test, Y_test)\n",
    "#np.set_printoptions(precision=0.01)\n",
    "print(\"Accuracy of SVM Model: {}%\".format(acc*100))\n",
    "sns.heatmap(cm, annot=True, fmt = \".1f\",cmap=\"RdBu\")\n",
    "plt.title(\"Confusion Matrix for SVM Model\")"
   ]
  },
  {
   "cell_type": "code",
   "execution_count": null,
   "id": "ae4390d2",
   "metadata": {},
   "outputs": [],
   "source": []
  }
 ],
 "metadata": {
  "kernelspec": {
   "display_name": "Python 3 (ipykernel)",
   "language": "python",
   "name": "python3"
  },
  "language_info": {
   "codemirror_mode": {
    "name": "ipython",
    "version": 3
   },
   "file_extension": ".py",
   "mimetype": "text/x-python",
   "name": "python",
   "nbconvert_exporter": "python",
   "pygments_lexer": "ipython3",
   "version": "3.9.13"
  }
 },
 "nbformat": 4,
 "nbformat_minor": 5
}
